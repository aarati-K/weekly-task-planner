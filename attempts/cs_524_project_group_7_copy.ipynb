{
 "cells": [
  {
   "cell_type": "markdown",
   "metadata": {},
   "source": [
    "### CS/ECE/ISyE 524 - Intro To Opitimization - Spring 2019"
   ]
  },
  {
   "cell_type": "markdown",
   "metadata": {},
   "source": [
    "# Weekely Task Planner #\n",
    "#### Aarati Kakaraparthy (aaratik@cs.wisc.edu), and Saurabh Agarwal (sagarwal52@wisc.edu)"
   ]
  },
  {
   "cell_type": "markdown",
   "metadata": {},
   "source": [
    "****\n",
    "### Table of Contents\n",
    "1. [Introduction](#1.-Introduction)\n",
    "    1. [Major Features](#1.A.-Major-Features)\n",
    "2. [Mathematical Model](#2.-Mathematical-Model)\n",
    "    1. [Data Source](#2.A.-Data-Source)\n",
    "    2. [Attributes of Task](#2.B.-Attributes-of-a-task)\n",
    "    3. [Attributes of Person](#2.C.-Attributes-of-Person)\n",
    "    4. [Assumptions](#2.D.-Assumptions)\n",
    "    5. [Modeling Methodology](#2.E.-Modeling-Methodoloy)\n",
    "    6. [Model](#2.F.-Model)\n",
    "3. [Solution](#3.-Solution)\n",
    "4. [Results and Discussion](#4.-Results-and-Discussion)\n",
    "    1. [Generating a CSV output compatible with Google Calendar](#4.A.-Generating-a-CSV-output-compatible-with-Google-Calender)\n",
    "    2. [Resulting Schedule of all the Tasks](#4.B-Resulting-Schedule-of-all-the-Tasks)\n",
    "    3. [Adding a Compulsory Task to the Schedule](#4.C-Adding-a-Compulsory-Task-to-the-Schedule)\n",
    "    4. [Adding on Optional Task](#4.D-Adding-an-Optional-Task)\n",
    "5. [Conclusion](#5.-Conclusion)\n",
    "    1. [Future Work](#5.A.-Future-Work)"
   ]
  },
  {
   "cell_type": "markdown",
   "metadata": {},
   "source": [
    "## 1. Introduction ##"
   ]
  },
  {
   "cell_type": "markdown",
   "metadata": {},
   "source": [
    "As Graduate Students we are always dealing with quite a few tasks which need to be wrapped up. For ex- There are homeworks, research commitments, meetings, classes making it hard to get the complete picture of time allotment. What we end up working on is the closest deadline first task. A lot of time we tend to get some optional ad-hoc task, but because of non-clarity about our time constraints during the week, we sometimes end up overcommiting or undercommiting our availabilty. These problems inhibit our ability to properly plan our week. To solve this problem and get a more coherent picture of our week we propose a weekly task planner. \n",
    "### 1.A. Major Features \n",
    "* Each task is different and we would like to get a minimum dedicated window while doing that. For ex- A coding task is going to take 10 Hrs but we need a Minimum 2 Hrs window. The scheduler guarantees that we are allocated atleast the minimum window . \n",
    "* We can do a task for some Maximum amount of time, after that we need a break. For ex- For the coding task which needs 10 Hrs we can atmost work for 4 Hrs continously.The scheduler will only allocate maximum of 4 hrs continously.\n",
    "* Some tasks need to happen at a fixed time like classes, meetings etc. The scheduler will schedule them at that particular time.\n",
    "* Apart from that certain tasks are flexible, Like Research, we have need to spend some minimum hours and some maximum hours. Let's say 12 hours a week is the maximum but 10 Hours is the minumum. The scheduler will try to schedule at least 10 hours.\n",
    "* You can set whether you want take a break before starting the task.\n",
    "* The user can give weightage to whether he wants to work more hours or leave optional tasks unfulfilled. \n",
    "\n",
    "At the start of the week we input our tasks and constraints as well as our preference, the planner will try to plan your weekly schedule and give the best possible solution trying to meet all the constraints. One interesting part of the planner is that let's say you add more tasks or some constraints like deadlines, instead of giving an infeasible solution we tell how much of extra work you will need to do during the week. This allows us to still schedule tasks and then user can choose how they want to reduce their work. To make the project more useful we output a csv file with the schedule, the CSV file can be directly imported into your Google Calendar, this will allow one to use the output of the project directly into their calendar"
   ]
  },
  {
   "cell_type": "markdown",
   "metadata": {},
   "source": [
    "## 2. Mathematical Model ##"
   ]
  },
  {
   "cell_type": "markdown",
   "metadata": {},
   "source": [
    "### 2.A. Data Source\n",
    "All the data we require is the tasks the user wants to accomplish during the week. We also need certain attributes about the task, which are are detailed in the task attribute section."
   ]
  },
  {
   "cell_type": "markdown",
   "metadata": {},
   "source": [
    "### 2.B. Attributes of a task\n",
    "\n",
    "- Task name\n",
    "   - The Name of task\n",
    "- Number of hours in a week\n",
    "    - Numbers of hours we want to spend on the task\n",
    "- Start day and time (optional)\n",
    "    - If there is a particular start time and day you will prefer to start the task\n",
    "- End day and time (optional)\n",
    "    - If there is a fixed day and time by which you want to finish the task (Ex. Task)\n",
    "- is the task Optional\n",
    "    - Is there a option to not  do the task or spend less time on it.\n",
    "- is the duration of the task flexible \n",
    "    - Can we schedule working on a project for 10 hours instead of 12, then that's allowed. This inherently means that the task is optional.\n",
    "- Min allotted duration of work\n",
    "    - Minimum continous time you need to schedule for task. For ex - A coding task is going to take 10 Hrs but we need a Minimum 2 Hrs window. The scheduler guarantees that we are allocated atleast the minimum window . \n",
    "- Max allotted duration of work\n",
    "    - Maximum continous time you need to schedule for task. For ex - For the coding task which needs 10 Hrs we can atmost work for 4 Hrs continously.The scheduler will only allocate maximum of 4 hrs continously.\n",
    "- Take break before starting task\n",
    "    - Should we take a break before starting the new task\n",
    "    \n",
    "### 2.C. Attributes of Person \n",
    "- Working window of a person\n",
    "    - What is the working window of the person. Like 10AM to 6PM on weekday, and 2PM to 6PM on  Weekends\n",
    "- Preferred working hours each weekday\n",
    "    - How many hours will the person like to work during the weekday.Your working window could be say 8 hrs but you only want to work for say 6 Hrs.\n",
    "- Preferred working hours during weekends\n",
    "    - How many hours will the person like to work during the weekend.Your working window could be say 4 hrs but you only want to work 1 Hr."
   ]
  },
  {
   "cell_type": "markdown",
   "metadata": {},
   "source": [
    "### 2.D. Assumptions\n"
   ]
  },
  {
   "cell_type": "markdown",
   "metadata": {},
   "source": [
    "* Minimum Task length is at least 15 Minutes\n",
    "* We can only handle times in multiple of 15 minutes. Ex- 1 Hr 15 Minutes is fine but 1 Hr 20 Minutes is not\n",
    "* Task overflowing over days\n",
    "* Tasks over multiple weeks (Starting on Saturday and ending on a Friday)\n",
    "* Total hours is a multiple of min allocated hours\n",
    "* Max allocated hours is a multiple of min allocated hours"
   ]
  },
  {
   "cell_type": "markdown",
   "metadata": {},
   "source": [
    "### 2.E. Modeling Methodoloy"
   ]
  },
  {
   "cell_type": "markdown",
   "metadata": {},
   "source": [
    "We model it very similar to the Sudoku problem in the class. Here we create a 3 Dimension Grid. 1st dimension is specified by tasks. Second Dimension is Number of Days in a Week (7) and third dimension is number of slots in a day (24x4). Instead of directly solving the assignment problem we solve the problem as minimizing the number of hours a person specified outside of the working window. We detail in the following section of how we model each of the constraint. Our model is a Mixed Integer Problem with quadratic constraints.\n",
    "#### Notation\n",
    "For simplicity we denote total number of tasks by i, number of days in a week by j and number of 15 minute slots by k.\n",
    "### 2.F. Model\n",
    "#### Decision Variable \n",
    "  $$todo \\in \\{0,1\\}^{i \\times j \\times k } $$\n",
    "  $$ leisure \\in \\{0,1\\}^{i \\times j \\times k} $$\n",
    " \n",
    "The optimization task is to fill zero's or one's for a particular task.\n",
    "#### Objective\n",
    "We want to minimize the sum of unfulfilled tasks and total number of hours which we have to work outside\n",
    "\n",
    "$$ \\text{minimize} \\begin{aligned} \\sum_j hours\\_exceeded\\_per\\_day + \\sum_i unfulfilled\\_task  \\end{aligned}$$\n",
    "$$ \\text{subject to:}  $$\n",
    "#### Constraints \n",
    "* Only one task can be done at one point.\n",
    "   $$ \\sum_i \\sum_j \\sum_k todo_{i,j,k} + \\sum_i \\sum_j \\sum_k leisure_{i,j,k} = 1$$\n",
    "* For non working slots we set leisure as one\n",
    "   $$ leisure_{i,j,k} = 1 \\forall non\\_working\\_hours $$\n",
    "* Not to spend any time on the task before the start time of task\n",
    "   $$ todo_{i,j,k} = 0 \\forall $$ #Don't know how to write this\n",
    "* Don't spend any time on the task after the end time of task\n",
    "* Total number of time slots spent during the week on a task \n",
    "    $$ min\\_number\\_of\\_hrs_i \\leq \\sum_{j} \\sum_{k} todo_{i,j,k} \\leq max\\_number\\_of\\_hrs_i \\forall i$$\n",
    "* Should there be a leisure slot \n",
    "     $$  todo_{i,j,k} + todo_{i^{'},j,k-2} - leisure_{j,k-1} \\leq 1 $$\n",
    "     If $todo_{i,j,k}$ is 1 and $todo_{i^{'},j,k-2}$ is one then the leisure slot between them needs to be one\n",
    "* Min hours allocated continously\n",
    " $$ \\sum_i \\sum_j \\sum_{k=start\\_slot}^{start\\_slot +min\\_slots-1} todo_{i,j,k} = min\\_slots $$\n",
    "* Max Hours allocated continously\n",
    "$$ \\sum_i \\sum_j \\sum_{k=start\\_slot}^{start\\_slot +max\\_slots} todo_{i,j,k} = max\\_slots $$"
   ]
  },
  {
   "cell_type": "markdown",
   "metadata": {},
   "source": [
    "## 3. Solution"
   ]
  },
  {
   "cell_type": "markdown",
   "metadata": {},
   "source": [
    "We divide the day into 15 minute slots. There are total 96 slots in each day. We have created two utility functions to convert a slot index to time and vice versa.\n",
    "\n",
    "Additionally, we have chosen Saturday as the start of the week, as we personally have all our deadlines on Firdays.\n",
    "\n",
    "Other parameters such as *alpha, preferred_working_hours_weekday, preferred_working_hours_weekend, work_start, work_end,* etc can be specified here."
   ]
  },
  {
   "cell_type": "code",
   "execution_count": 1,
   "metadata": {},
   "outputs": [
    {
     "name": "stdout",
     "output_type": "stream",
     "text": [
      "Number of 15 minute slots per day - 96\n",
      "Slot index of 17:30 - 71\n",
      "Time corresponding to slot index 71 - 17:30\n"
     ]
    }
   ],
   "source": [
    "# CONSTANTS and HELPER FUNCTIONS\n",
    "\n",
    "# This value is used for optional input parameters, in case no fixed value is supplied\n",
    "default = 0\n",
    "\n",
    "# Days in the week\n",
    "num_days = 7\n",
    "day_names = [\"Saturday\",\n",
    "\"Sunday\",\n",
    "\"Monday\",\n",
    "\"Tuesday\",\n",
    "\"Wednesday\",\n",
    "\"Thursday\",\n",
    "\"Friday\"]\n",
    "\n",
    "@enum Days begin\n",
    "    Saturday = 1\n",
    "    Sunday = 2\n",
    "    Monday = 3\n",
    "    Tuesday = 4\n",
    "    Wednesday = 5\n",
    "    Thursday = 6\n",
    "    Friday = 7\n",
    "end\n",
    "\n",
    "# Working hours in a day start at 10:30 (10:30am)\n",
    "work_start = \"10:30\"\n",
    "\n",
    "# Working hours end at 23:30 (11:30pm)\n",
    "work_end = \"23:30\"\n",
    "\n",
    "# We divide the day into 15 minute time slots\n",
    "num_slots_per_day = Int((24*60)/15)\n",
    "\n",
    "# Preferred working hours in the weekday and weekends\n",
    "preferred_working_hours_weekday = 8\n",
    "preferred_working_hours_weekend = 3\n",
    "\n",
    "# The cost function is a tradeoff between exceeding preferred work hours vs not \n",
    "# completing tasks' duration. This parameter controls the tradeoff.\n",
    "# alpha = 2 means that we give more weightage to not exceeding preferred work hours.\n",
    "alpha = 2\n",
    "\n",
    "# We divide the day into 15 minute time slots. This function returns the\n",
    "# time slot index corresponding to a given time in 24-hour HH:MM format.\n",
    "# Minutes should be a multiple of 15. Time slot index of 00:00 is 1.\n",
    "function convertTimeToSlotIndex(t)\n",
    "    typeassert(t, String)\n",
    "    hour, mins = split(t, \":\")\n",
    "    hour = parse(Int, hour)\n",
    "    mins = parse(Int, mins)\n",
    "    if mins%15 != 0\n",
    "        print(\"Invalid time input\")\n",
    "    end\n",
    "    return Int((hour*60 + mins)/15 + 1)\n",
    "end\n",
    "\n",
    "function convertSlotIndexToTime(idx)\n",
    "    typeassert(idx, Int)\n",
    "    hour = div(idx-1, 4)\n",
    "    mins = ((idx-1)%4)*15\n",
    "    time = \"\"\n",
    "    if hour < 10\n",
    "        time = \"0\"*string(hour)\n",
    "    else\n",
    "        time = string(hour)\n",
    "    end\n",
    "    time = time*\":\"\n",
    "    if mins == 0\n",
    "        time = time*\"00\"\n",
    "    else\n",
    "        time = time*string(mins)\n",
    "    end\n",
    "    return time\n",
    "end\n",
    "\n",
    "println(\"Number of 15 minute slots per day - \", num_slots_per_day)\n",
    "println(\"Slot index of 17:30 - \", convertTimeToSlotIndex(\"17:30\"))\n",
    "println(\"Time corresponding to slot index 71 - \", convertSlotIndexToTime(71))"
   ]
  },
  {
   "cell_type": "markdown",
   "metadata": {},
   "source": [
    "We hold the parameters for each task as an entry in the data frame called *tasks*. We have taken an example list of tasks from our personal schedules, such as working on research, courses, etc. Other inputs can be tested by adding/replacing tasks in this block."
   ]
  },
  {
   "cell_type": "code",
   "execution_count": 2,
   "metadata": {},
   "outputs": [
    {
     "data": {
      "text/html": [
       "<table class=\"data-frame\"><thead><tr><th></th><th>name</th><th>num_hours</th><th>start_day</th><th>start_time_slot</th><th>end_day</th><th>end_time_slot</th><th>is_optional</th><th>is_flexible</th><th>min_allotted_hours</th><th>max_allotted_hours</th><th>take_break_before_task</th></tr><tr><th></th><th>String</th><th>Float32</th><th>Int64</th><th>Int64</th><th>Int64</th><th>Int64</th><th>Bool</th><th>Bool</th><th>Int64</th><th>Int64</th><th>Bool</th></tr></thead><tbody><p>8 rows × 11 columns</p><tr><th>1</th><td>Research</td><td>20.0</td><td>0</td><td>0</td><td>7</td><td>35</td><td>true</td><td>true</td><td>2</td><td>4</td><td>true</td></tr><tr><th>2</th><td>Edge Computing Course</td><td>10.0</td><td>0</td><td>0</td><td>7</td><td>65</td><td>true</td><td>true</td><td>2</td><td>4</td><td>true</td></tr><tr><th>3</th><td>CS524 - Lecture 1</td><td>1.25</td><td>4</td><td>53</td><td>4</td><td>58</td><td>false</td><td>false</td><td>0</td><td>0</td><td>true</td></tr><tr><th>4</th><td>CS524 - Lecture 2</td><td>1.25</td><td>6</td><td>53</td><td>6</td><td>58</td><td>false</td><td>false</td><td>0</td><td>0</td><td>true</td></tr><tr><th>5</th><td>Paper Reading For DB Reading Group</td><td>4.0</td><td>0</td><td>0</td><td>4</td><td>69</td><td>false</td><td>false</td><td>2</td><td>0</td><td>true</td></tr><tr><th>6</th><td>DB Reading Group</td><td>1.0</td><td>4</td><td>69</td><td>4</td><td>73</td><td>false</td><td>false</td><td>1</td><td>0</td><td>false</td></tr><tr><th>7</th><td>Edge Computing - Read PyWren</td><td>2.0</td><td>0</td><td>0</td><td>7</td><td>65</td><td>false</td><td>false</td><td>2</td><td>0</td><td>true</td></tr><tr><th>8</th><td>Edge Computing - Read Google Scheduling</td><td>1.0</td><td>0</td><td>0</td><td>7</td><td>65</td><td>false</td><td>false</td><td>1</td><td>0</td><td>true</td></tr></tbody></table>"
      ],
      "text/latex": [
       "\\begin{tabular}{r|ccccccccccc}\n",
       "\t& name & num\\_hours & start\\_day & start\\_time\\_slot & end\\_day & end\\_time\\_slot & is\\_optional & is\\_flexible & min\\_allotted\\_hours & max\\_allotted\\_hours & take\\_break\\_before\\_task\\\\\n",
       "\t\\hline\n",
       "\t& String & Float32 & Int64 & Int64 & Int64 & Int64 & Bool & Bool & Int64 & Int64 & Bool\\\\\n",
       "\t\\hline\n",
       "\t1 & Research & 20.0 & 0 & 0 & 7 & 35 & true & true & 2 & 4 & true \\\\\n",
       "\t2 & Edge Computing Course & 10.0 & 0 & 0 & 7 & 65 & true & true & 2 & 4 & true \\\\\n",
       "\t3 & CS524 - Lecture 1 & 1.25 & 4 & 53 & 4 & 58 & false & false & 0 & 0 & true \\\\\n",
       "\t4 & CS524 - Lecture 2 & 1.25 & 6 & 53 & 6 & 58 & false & false & 0 & 0 & true \\\\\n",
       "\t5 & Paper Reading For DB Reading Group & 4.0 & 0 & 0 & 4 & 69 & false & false & 2 & 0 & true \\\\\n",
       "\t6 & DB Reading Group & 1.0 & 4 & 69 & 4 & 73 & false & false & 1 & 0 & false \\\\\n",
       "\t7 & Edge Computing - Read PyWren & 2.0 & 0 & 0 & 7 & 65 & false & false & 2 & 0 & true \\\\\n",
       "\t8 & Edge Computing - Read Google Scheduling & 1.0 & 0 & 0 & 7 & 65 & false & false & 1 & 0 & true \\\\\n",
       "\\end{tabular}\n"
      ],
      "text/plain": [
       "8×11 DataFrame. Omitted printing of 8 columns\n",
       "│ Row │ name                                    │ num_hours │ start_day │\n",
       "│     │ \u001b[90mString\u001b[39m                                  │ \u001b[90mFloat32\u001b[39m   │ \u001b[90mInt64\u001b[39m     │\n",
       "├─────┼─────────────────────────────────────────┼───────────┼───────────┤\n",
       "│ 1   │ Research                                │ 20.0      │ 0         │\n",
       "│ 2   │ Edge Computing Course                   │ 10.0      │ 0         │\n",
       "│ 3   │ CS524 - Lecture 1                       │ 1.25      │ 4         │\n",
       "│ 4   │ CS524 - Lecture 2                       │ 1.25      │ 6         │\n",
       "│ 5   │ Paper Reading For DB Reading Group      │ 4.0       │ 0         │\n",
       "│ 6   │ DB Reading Group                        │ 1.0       │ 4         │\n",
       "│ 7   │ Edge Computing - Read PyWren            │ 2.0       │ 0         │\n",
       "│ 8   │ Edge Computing - Read Google Scheduling │ 1.0       │ 0         │"
      ]
     },
     "execution_count": 2,
     "metadata": {},
     "output_type": "execute_result"
    }
   ],
   "source": [
    "# Using DataFrames to represent tasks\n",
    "\n",
    "using DataFrames, CSV\n",
    "\n",
    "tasks = DataFrame(\n",
    "    name = String[], \n",
    "    num_hours = Float32[], \n",
    "    start_day = Int[], \n",
    "    start_time_slot = Int[],\n",
    "    end_day = Int[],\n",
    "    end_time_slot = Int[],\n",
    "    is_optional = Bool[],\n",
    "    is_flexible = Bool[],\n",
    "    min_allotted_hours = Int[],\n",
    "    max_allotted_hours = Int[],\n",
    "    take_break_before_task = Bool[]\n",
    ")\n",
    "\n",
    "push!(tasks, Dict(\n",
    "    :name => \"Research\", \n",
    "    :num_hours => 20, \n",
    "    :start_day => default, \n",
    "    :start_time_slot => default, \n",
    "    :end_day => Int(Friday), \n",
    "    :end_time_slot => convertTimeToSlotIndex(\"08:30\"), \n",
    "    :is_optional => true, \n",
    "    :is_flexible => true,  \n",
    "    :min_allotted_hours => 2,\n",
    "    :max_allotted_hours => 4,\n",
    "    :take_break_before_task => true\n",
    "))\n",
    "\n",
    "push!(tasks, Dict(\n",
    "    :name => \"Edge Computing Course\", \n",
    "    :num_hours => 10, \n",
    "    :start_day => default, \n",
    "    :start_time_slot => default, \n",
    "    :end_day => Int(Friday), \n",
    "    :end_time_slot => convertTimeToSlotIndex(\"16:00\"), \n",
    "    :is_optional => true, \n",
    "    :is_flexible => true,\n",
    "    :min_allotted_hours => 2,\n",
    "    :max_allotted_hours => 4,\n",
    "    :take_break_before_task => true\n",
    "))\n",
    "\n",
    "push!(tasks, Dict(\n",
    "    :name => \"CS524 - Lecture 1\", \n",
    "    :num_hours => 1.25, \n",
    "    :start_day => Int(Tuesday), \n",
    "    :start_time_slot => convertTimeToSlotIndex(\"13:00\"), \n",
    "    :end_day => Int(Tuesday), \n",
    "    :end_time_slot => convertTimeToSlotIndex(\"14:15\"), \n",
    "    :is_optional => false, \n",
    "    :is_flexible => false,\n",
    "    :min_allotted_hours => default,\n",
    "    :max_allotted_hours => default,\n",
    "    :take_break_before_task => true\n",
    "))\n",
    "\n",
    "push!(tasks, Dict(\n",
    "    :name => \"CS524 - Lecture 2\", \n",
    "    :num_hours => 1.25, \n",
    "    :start_day => Int(Thursday), \n",
    "    :start_time_slot => convertTimeToSlotIndex(\"13:00\"), \n",
    "    :end_day => Int(Thursday), \n",
    "    :end_time_slot => convertTimeToSlotIndex(\"14:15\"), \n",
    "    :is_optional => false, \n",
    "    :is_flexible => false,\n",
    "    :min_allotted_hours => default,\n",
    "    :max_allotted_hours => default,\n",
    "    :take_break_before_task => true\n",
    "))\n",
    "\n",
    "push!(tasks, Dict(\n",
    "    :name => \"Paper Reading For DB Reading Group\", \n",
    "    :num_hours => 4, \n",
    "    :start_day => default, \n",
    "    :start_time_slot => default, \n",
    "    :end_day => Int(Tuesday), \n",
    "    :end_time_slot => convertTimeToSlotIndex(\"17:00\"), \n",
    "    :is_optional => false,\n",
    "    :is_flexible => false,  \n",
    "    :min_allotted_hours => 2,\n",
    "    :max_allotted_hours => default,\n",
    "    :take_break_before_task => true\n",
    "))\n",
    "\n",
    "push!(tasks, Dict(\n",
    "    :name => \"DB Reading Group\", \n",
    "    :num_hours => 1, \n",
    "    :start_day => Int(Tuesday), \n",
    "    :start_time_slot => convertTimeToSlotIndex(\"17:00\"), \n",
    "    :end_day => Int(Tuesday), \n",
    "    :end_time_slot => convertTimeToSlotIndex(\"18:00\"), \n",
    "    :is_optional => false, \n",
    "    :is_flexible => false,  \n",
    "    :min_allotted_hours => 1,\n",
    "    :max_allotted_hours => default,\n",
    "    :take_break_before_task => false\n",
    "))\n",
    "\n",
    "push!(tasks, Dict(\n",
    "    :name => \"Edge Computing - Read PyWren\", \n",
    "    :num_hours => 2, \n",
    "    :start_day => default,\n",
    "    :start_time_slot => default, \n",
    "    :end_day => Int(Friday), \n",
    "    :end_time_slot => convertTimeToSlotIndex(\"16:00\"), \n",
    "    :is_optional => false, \n",
    "    :is_flexible => false, \n",
    "    :min_allotted_hours => 2,\n",
    "    :max_allotted_hours => default,\n",
    "    :take_break_before_task => true\n",
    "))\n",
    "\n",
    "push!(tasks, Dict(\n",
    "    :name => \"Edge Computing - Read Google Scheduling\", \n",
    "    :num_hours => 1, \n",
    "    :start_day => default, \n",
    "    :start_time_slot => default, \n",
    "    :end_day => Int(Friday), \n",
    "    :end_time_slot => convertTimeToSlotIndex(\"16:00\"), \n",
    "    :is_optional => false, \n",
    "    :is_flexible => false,  \n",
    "    :min_allotted_hours => 1,\n",
    "    :max_allotted_hours => default,\n",
    "    :take_break_before_task => true\n",
    "))\n",
    "\n",
    "tasks"
   ]
  },
  {
   "cell_type": "markdown",
   "metadata": {},
   "source": [
    "Next, we check for any discrepancies in the input. Our model requires that *num_hours* and *max_allotted_hours* are multiples of *min_allotted_hours* (if specified). Otherwise we might not be able to schedule the task completely. \n",
    "\n",
    "(For example, if *min_allotted_hours = 3*, and *total_hours = 5*, then we can never sucessfully schedule the task as 5 is not a multiple of 3.)"
   ]
  },
  {
   "cell_type": "code",
   "execution_count": 3,
   "metadata": {},
   "outputs": [
    {
     "name": "stdout",
     "output_type": "stream",
     "text": [
      "All tasks have valid num_hours, min_allotted_hours and max_allotted_hours parameters\n"
     ]
    }
   ],
   "source": [
    "# CHECK num_hours, min_allotted_hours, max_allotted_hours PARAMETERS OF ALL THE TASKS\n",
    "num_tasks, _ = size(tasks)\n",
    "num_errors = 0\n",
    "for i=1:num_tasks\n",
    "    task = tasks[i, :]\n",
    "    min_allotted_hours = task.min_allotted_hours\n",
    "    if min_allotted_hours == default\n",
    "        continue\n",
    "    end\n",
    "    \n",
    "    # max_allotted_hours should be a multiple of min_allotted_hours, or default\n",
    "    max_allotted_hours = task.max_allotted_hours\n",
    "    if max_allotted_hours != default && max_allotted_hours % min_allotted_hours != 0\n",
    "        println(task.name, \": max_allotted_hours(=\", max_allotted_hours, \") not a multiple of min_allotted_hours(=\", min_allotted_hours, \")\")\n",
    "        num_errors += 1\n",
    "    end\n",
    "    \n",
    "    # num_hours should be non-zero\n",
    "    num_hours = task.num_hours\n",
    "    if num_hours <= 0\n",
    "        println(task.name, \": Invalid num_hours (supplied value=\", num_hours, \")\")\n",
    "        num_errors += 1\n",
    "        continue\n",
    "    end\n",
    "    \n",
    "    # num_hours should be a multiple of min_allotted_hours.\n",
    "    if num_hours % min_allotted_hours != 0\n",
    "        println(task.name, \": num_hours(=\", num_hours, \") not a multiple of min_allotted_hours(=\", min_allotted_hours, \")\")\n",
    "        num_errors += 1\n",
    "    end\n",
    "end\n",
    "\n",
    "if num_errors == 0\n",
    "    println(\"All tasks have valid num_hours, min_allotted_hours and max_allotted_hours parameters\")\n",
    "end"
   ]
  },
  {
   "cell_type": "markdown",
   "metadata": {},
   "source": [
    "We model this problem as a Mixed Integer Problem with Quadratic constraints (MIQP). We use Gurobi as our solver."
   ]
  },
  {
   "cell_type": "code",
   "execution_count": 4,
   "metadata": {},
   "outputs": [
    {
     "data": {
      "text/latex": [
       "$$ 0 \\leq leisure_{i,j} \\leq 1, \\in \\mathbb{Z}, \\quad\\forall i \\in \\{1,2,\\dots,6,7\\}, j \\in \\{1,2,\\dots,95,96\\} $$"
      ],
      "text/plain": [
       "7×96 Array{Variable,2}:\n",
       " leisure[1,1]  leisure[1,2]  leisure[1,3]  …  leisure[1,95]  leisure[1,96]\n",
       " leisure[2,1]  leisure[2,2]  leisure[2,3]     leisure[2,95]  leisure[2,96]\n",
       " leisure[3,1]  leisure[3,2]  leisure[3,3]     leisure[3,95]  leisure[3,96]\n",
       " leisure[4,1]  leisure[4,2]  leisure[4,3]     leisure[4,95]  leisure[4,96]\n",
       " leisure[5,1]  leisure[5,2]  leisure[5,3]     leisure[5,95]  leisure[5,96]\n",
       " leisure[6,1]  leisure[6,2]  leisure[6,3]  …  leisure[6,95]  leisure[6,96]\n",
       " leisure[7,1]  leisure[7,2]  leisure[7,3]     leisure[7,95]  leisure[7,96]"
      ]
     },
     "execution_count": 4,
     "metadata": {},
     "output_type": "execute_result"
    }
   ],
   "source": [
    "# PROBLEM MODEL\n",
    "\n",
    "using JuMP, Gurobi\n",
    "\n",
    "m = Model(solver=GurobiSolver(OutputFlag=0))\n",
    "\n",
    "# We have a todo 2-d array for each task.\n",
    "# todo[i][j][k] = 1 means the user should do task i on day j slot id k.\n",
    "@variable(m, 0 <= todo[1:(num_tasks), 1:num_days, 1:num_slots_per_day] <= 1, Int)\n",
    "\n",
    "# We have one more array for breaks/leisure\n",
    "@variable(m, 0 <= leisure[1:num_days, 1:num_slots_per_day] <= 1, Int)"
   ]
  },
  {
   "cell_type": "markdown",
   "metadata": {},
   "source": [
    "**Constraint 1**: We can do only one type of activity in every slot. "
   ]
  },
  {
   "cell_type": "code",
   "execution_count": 5,
   "metadata": {},
   "outputs": [],
   "source": [
    "# We can only be doing one type of activity in every slot\n",
    "for j=1:num_days\n",
    "    for k=1:num_slots_per_day\n",
    "        @constraint(m, sum(todo[i, j, k] for i=1:num_tasks) + leisure[j, k] == 1)\n",
    "    end\n",
    "end"
   ]
  },
  {
   "cell_type": "markdown",
   "metadata": {},
   "source": [
    "**Constraint 2:** We do not work outside the work window each day (10:30am to 11:30pm in our case)."
   ]
  },
  {
   "cell_type": "code",
   "execution_count": 6,
   "metadata": {},
   "outputs": [],
   "source": [
    "# Cannot work outside working hours\n",
    "for j=1:num_days\n",
    "    for k=1:(convertTimeToSlotIndex(work_start)-1)\n",
    "        @constraint(m, leisure[j, k] == 1)\n",
    "    end\n",
    "end\n",
    "\n",
    "for j=1:num_days\n",
    "    for k=convertTimeToSlotIndex(work_end):num_slots_per_day\n",
    "        @constraint(m, leisure[j, k] == 1)\n",
    "    end\n",
    "end"
   ]
  },
  {
   "cell_type": "markdown",
   "metadata": {},
   "source": [
    "**Constraint 3:** We don't spend time on the task before the start time and after the end time. This makes the optimizer schedule the task between the start and end time only."
   ]
  },
  {
   "cell_type": "code",
   "execution_count": 7,
   "metadata": {},
   "outputs": [],
   "source": [
    "# Do not spend time on task before start day/time (if given)\n",
    "for i=1:num_tasks\n",
    "    task = tasks[i, :]\n",
    "    start_day = task.start_day\n",
    "    if start_day == default\n",
    "        continue\n",
    "    end\n",
    "\n",
    "    if start_day > 1\n",
    "        for j=1:start_day-1\n",
    "            for k=1:num_slots_per_day\n",
    "                @constraint(m, todo[i, j, k] == 0)\n",
    "            end\n",
    "        end\n",
    "    end\n",
    "    \n",
    "    start_time_slot = task.start_time_slot\n",
    "    j = start_day\n",
    "    for k=1:start_time_slot-1\n",
    "        @constraint(m, todo[i, j, k] == 0)\n",
    "    end\n",
    "end"
   ]
  },
  {
   "cell_type": "code",
   "execution_count": 8,
   "metadata": {},
   "outputs": [],
   "source": [
    "# Do not spend time on task after end day/time (if given)\n",
    "for i=1:num_tasks\n",
    "    task = tasks[i, :]\n",
    "    end_day = task.end_day\n",
    "    if end_day == default\n",
    "        continue\n",
    "    end\n",
    "    if end_day < 7\n",
    "        for j=end_day+1:7\n",
    "            for k=1:num_slots_per_day\n",
    "                @constraint(m, todo[i, j, k] == 0)\n",
    "            end\n",
    "        end\n",
    "    end\n",
    "    \n",
    "    end_time_slot = task.end_time_slot\n",
    "    j = end_day\n",
    "    for k=end_time_slot:num_slots_per_day\n",
    "        @constraint(m, todo[i, j, k] == 0)\n",
    "    end\n",
    "end"
   ]
  },
  {
   "cell_type": "markdown",
   "metadata": {},
   "source": [
    "*[Used in the cost expression]* This is a variable which helps to keep track of total time spent on a task"
   ]
  },
  {
   "cell_type": "code",
   "execution_count": 9,
   "metadata": {},
   "outputs": [],
   "source": [
    "# Number of time slots spent on each task during the week\n",
    "@variable(m, slots_spent[1:num_tasks] >= 0, Int)\n",
    "\n",
    "for i=1:num_tasks\n",
    "    @constraint(m, slots_spent[i] == sum(todo[i, j, k] for k=1:num_slots_per_day for j=1:num_days))\n",
    "end"
   ]
  },
  {
   "cell_type": "markdown",
   "metadata": {},
   "source": [
    "**Constraints 4, 5, & 6:** We impose constraints on the amount of time spent on tasks.\n",
    "\n",
    "- For optional and flexible tasks, we can schedule for lesser duration than specified.\n",
    "- For optional and inflexible tasks, we either schedule the task completely, or do not schedule it at all.\n",
    "- For non-optional (compulsory) tasks, we need to spend the required amount of hours (irrespective of preferred working hours)."
   ]
  },
  {
   "cell_type": "code",
   "execution_count": 10,
   "metadata": {},
   "outputs": [],
   "source": [
    "# Should spend the required amount of time for tasks\n",
    "\n",
    "# Whether a task is scheduled (Binary, used for the constraint on )\n",
    "@variable(m, task_scheduled[1:num_tasks], Bin)\n",
    "\n",
    "for i=1:num_tasks\n",
    "    task = tasks[i, :]\n",
    "    if task.is_optional\n",
    "        if task.is_flexible\n",
    "            # Task is flexible. Can schedule for fewer hours.\n",
    "            @constraint(m, slots_spent[i] <= task.num_hours*4)\n",
    "        else\n",
    "            # Either completely schedule the task, or do not schedule it at all \n",
    "            # as task_scheduled is a binary variable\n",
    "            @constraint(m, slots_spent[i] == task.num_hours*4*task_scheduled[i])\n",
    "        end\n",
    "    else\n",
    "        # Task is not optional. Need to schedule for the specified hours.\n",
    "        @constraint(m, slots_spent[i] == task.num_hours*4)\n",
    "    end\n",
    "end"
   ]
  },
  {
   "cell_type": "markdown",
   "metadata": {},
   "source": [
    "**Constraint 7:** Make sure that there is a leisure slot (15 Minutes) before the start of task (if *take_break_before_task = true*).\n",
    "\n",
    "We model this as a linear constraint. Consider two different tasks *i1* and *i2*, and we want to take a break before starting *i1*. Consider the expression:\n",
    "\n",
    "$$todo[i1, j, k] + todo[i2, j, k-2] - leisure[j, k-1] <= 1$$\n",
    "\n",
    "The following cases arise:\n",
    "\n",
    "- If todo[i1, j, k] = 0, then the expression is always <= 1.\n",
    "- If todo[i2, j, k-2] = 0, then the expression is again <= 1.\n",
    "- If todo[i1, j, k] = 1, and todo[i2, j, k-2] = 1, then the expression can be <= 1, only when leisure[i, j, k-1] = 1.\n",
    "\n",
    "In words, if we were doing task *i1* in slot *(k)* and task *i2* in slot *(k-2)*, then we require slot *(k-1)* to be a leisure slot. Only then the constraint will be satisfied."
   ]
  },
  {
   "cell_type": "code",
   "execution_count": 11,
   "metadata": {},
   "outputs": [],
   "source": [
    "# Should have a leisure slot before a task (if required)\n",
    "for t1=1:num_tasks\n",
    "    task1 = tasks[t1, :]\n",
    "    if !task1.take_break_before_task\n",
    "        continue\n",
    "    end\n",
    "    for t2=1:num_tasks\n",
    "        if t2 == t1\n",
    "            continue\n",
    "        end\n",
    "        for j=1:num_days\n",
    "            for k=3:num_slots_per_day\n",
    "                @constraint(m, todo[t1, j, k] + todo[t2, j, k-2] - leisure[j, k-1] <= 1)\n",
    "            end\n",
    "        end\n",
    "    end\n",
    "end"
   ]
  },
  {
   "cell_type": "markdown",
   "metadata": {},
   "source": [
    "*[Used in the final cost expression]* We calculate the total number of working hours, and the user's preferred hours exceeded on each day."
   ]
  },
  {
   "cell_type": "code",
   "execution_count": 12,
   "metadata": {},
   "outputs": [],
   "source": [
    "# Hours of work exceeded on each day of the week\n",
    "@variable(m, slots_exceeded[1:num_days] >= 0, Int)\n",
    "for j=1:num_days\n",
    "    if j==Int(Saturday) || j==Int(Sunday)\n",
    "        preferred_work_end = convertTimeToSlotIndex(work_start) + preferred_working_hours_weekend*4\n",
    "    else\n",
    "        preferred_work_end = convertTimeToSlotIndex(work_start) + preferred_working_hours_weekday*4\n",
    "    end\n",
    "    @constraint(m, slots_exceeded[j] == sum(todo[i, j, k] for k=preferred_work_end:num_slots_per_day for i=1:num_tasks))\n",
    "end"
   ]
  },
  {
   "cell_type": "markdown",
   "metadata": {},
   "source": [
    "*[Used in subsequent constraints]* We compute a variable which indicates when a task is started in the schedule. $task_i$ is started in slot *(j, k)*, if it is scheduled in that slot (*todo[i, j, k] = 1*), and not scheduled in the previous slot (*todo[i, j, k-1] = 0*).\n",
    "\n",
    "We set \n",
    "\n",
    "$$task\\_started[i, j, k] = todo[i, j, k] \\times (1-todo[i, j, k-1])$$\n",
    "\n",
    "This expression evaluates to 1, only when *todo[i, j, k] = 1* and *todo[i, j, k-1] = 0*."
   ]
  },
  {
   "cell_type": "code",
   "execution_count": 13,
   "metadata": {},
   "outputs": [],
   "source": [
    "# We first compute the start time of each task\n",
    "@variable(m, 0 <= task_started[1:num_tasks, 1:num_days, 1:num_slots_per_day] <= 1, Int)\n",
    "for i=1:num_tasks\n",
    "    for j=1:num_days\n",
    "        for k=2:num_slots_per_day\n",
    "            @constraint(m, task_started[i, j, k] == todo[i, j, k]*(1 - todo[i, j, k-1]))\n",
    "        end\n",
    "        # For slot 1, the constraint is slightly different as there is no slot before this\n",
    "        @constraint(m, task_started[i, j, 1] == todo[i, j, 1])\n",
    "    end\n",
    "end"
   ]
  },
  {
   "cell_type": "markdown",
   "metadata": {},
   "source": [
    "**Constraint 8:** We should spend *min_allotted_hours* continuously on a task (if specified). \n",
    "\n",
    "We first compulte *min\\_slots = 4 $\\times$ min\\_allotted\\_hours* (as there are 4 slots in an hour).\n",
    "\n",
    "Consider the following expression:\n",
    "\n",
    "*task_started[i, j, k] $\\times$ (sum(todo[i, j, l] for l=k:k+min_slots-1) - min_slots) >=0*\n",
    "\n",
    "The following cases arise:\n",
    "\n",
    "- If task_started[i, j, k] = 0, then the constraint holds. This means that task *i* was not started in slot *(j, k)*.\n",
    "- If task_started[i, j, k] = 1, then the constraint holds only when *sum(todo[i, j, l] for l=k:k+min_slots-1)* is greater than *min_slots*.\n",
    "\n",
    "*sum(todo[i, j, l] for l=k:k+min_slots-1)* indicates how many slots were allotted to the task, starting from slot *(j, k)*, for a window of *min_slots*. If the task was started at slot k, we would like the next *min_slots* to be spent on the task. This expression imposes the desired constraint."
   ]
  },
  {
   "cell_type": "code",
   "execution_count": 14,
   "metadata": {},
   "outputs": [],
   "source": [
    "# Min hours allocated while scheduling a task\n",
    "\n",
    "for i=1:num_tasks\n",
    "    task = tasks[i,:]\n",
    "    min_hours = task.min_allotted_hours\n",
    "    if min_hours == default\n",
    "        continue\n",
    "    end\n",
    "    min_slots = min_hours * 4 # there are four slots per hour\n",
    "    for j=1:num_days\n",
    "        for k=1:num_slots_per_day-min_slots+1\n",
    "            @constraint(m, task_started[i,j,k]*(sum(todo[i,j,l] for l=k:k+min_slots-1)-min_slots) >=0 )\n",
    "        end\n",
    "        \n",
    "        for k=num_slots_per_day-min_slots+2:num_slots_per_day\n",
    "            @constraint(m, task_started[i,j,k]*(sum(todo[i,j,l] for l=k:num_slots_per_day)-min_slots) >=0 )\n",
    "        end\n",
    "    end\n",
    "end"
   ]
  },
  {
   "cell_type": "markdown",
   "metadata": {},
   "source": [
    "**Constraint 9:** We should spend at most *max_allotted_hours* on a task continuously.\n",
    "\n",
    "We first compute *max_slots = 4 $\\times$ max_allotted_hours*.\n",
    "\n",
    "Similar to the above constraint, we would like at most *max_slots* to be contiguously assigned to the task. Consider the following expression:\n",
    "\n",
    "*task_started[i, j, k] $\\times$ (max_slots - sum(todo[i, j, l] for l = k:k+max_slots)) >=0*\n",
    "\n",
    "The following cases arise:\n",
    "\n",
    "- If task_started[i, j, k] = 0, then the constraint holds. This means that task *(i)* was not started in slot *(j, k)*.\n",
    "- If task_started[i, j, k] = 1, then the constraint holds only when *sum(todo[i, j, l] for l=k:k+max_slots)* is less than *max_slots*.\n",
    "\n",
    "*sum(todo[i, j, l] for l=k:k+max_slots)* indicates how many slots were allotted to the task, starting from slot *(j, k)*, for a window of *max_slots + 1*. If the task was started at slot k, we would like at most *max_slots* among the next *max_slots + 1* to be spent on the task. This expression imposes the desired constraint."
   ]
  },
  {
   "cell_type": "code",
   "execution_count": 15,
   "metadata": {},
   "outputs": [],
   "source": [
    "# Max hours allocated while scheduling a task\n",
    "\n",
    "for i=1:num_tasks\n",
    "    task = tasks[i,:]\n",
    "    max_hours = task.max_allotted_hours\n",
    "    if max_hours == default\n",
    "        continue\n",
    "    end\n",
    "    max_slots = max_hours * 4 # there are four slots per hour\n",
    "    for j=1:num_days\n",
    "        for k=1:num_slots_per_day-max_slots\n",
    "            @constraint(m, task_started[i,j,k]*(max_slots-sum(todo[i,j,l] for l=k:k+max_slots)) >=0 )\n",
    "        end\n",
    "    end\n",
    "end"
   ]
  },
  {
   "cell_type": "markdown",
   "metadata": {},
   "source": [
    "**[Objective Function]** Instead of solving the exact assignment problem, we model the problem which minimizes the unfulfilled duration of tasks, and total number of hours exceeded over the preferred working hours.\n",
    "\n",
    "The parameter *alpha* helps us decide the tradeoff between exceeding work hours, vs finishing all the tasks (discussed further in results)."
   ]
  },
  {
   "cell_type": "code",
   "execution_count": 16,
   "metadata": {},
   "outputs": [
    {
     "name": "stdout",
     "output_type": "stream",
     "text": [
      "Academic license - for non-commercial use only\n"
     ]
    },
    {
     "data": {
      "text/plain": [
       ":Optimal"
      ]
     },
     "execution_count": 16,
     "metadata": {},
     "output_type": "execute_result"
    }
   ],
   "source": [
    "@objective(m, Min, alpha*sum(slots_exceeded[j] for j=1:num_days) +   # Number of slots exceeded over preferred hours\n",
    "    sum(tasks[i, :].num_hours*4 - slots_spent[i] for i=1:num_tasks))  # Number of unfulfilled tasks\n",
    "status = solve(m)"
   ]
  },
  {
   "cell_type": "code",
   "execution_count": 17,
   "metadata": {
    "scrolled": true
   },
   "outputs": [
    {
     "name": "stdout",
     "output_type": "stream",
     "text": [
      "Research schedule:\n",
      "Saturday: 3.0 hours\n",
      "Sunday: 3.0 hours\n",
      "Monday: 0.0 hours\n",
      "Tuesday: 2.5 hours\n",
      "Wednesday: 5.25 hours\n",
      "Thursday: 6.25 hours\n",
      "Friday: 0.0 hours\n",
      "\n",
      "Edge Computing Course schedule:\n",
      "Saturday: 0.0 hours\n",
      "Sunday: 0.0 hours\n",
      "Monday: 2.25 hours\n",
      "Tuesday: 2.25 hours\n",
      "Wednesday: 2.25 hours\n",
      "Thursday: 0.0 hours\n",
      "Friday: 3.25 hours\n",
      "\n",
      "CS524 - Lecture 1 schedule:\n",
      "Saturday: 0.0 hours\n",
      "Sunday: 0.0 hours\n",
      "Monday: 0.0 hours\n",
      "Tuesday: 1.25 hours\n",
      "Wednesday: 0.0 hours\n",
      "Thursday: 0.0 hours\n",
      "Friday: 0.0 hours\n",
      "\n",
      "CS524 - Lecture 2 schedule:\n",
      "Saturday: 0.0 hours\n",
      "Sunday: 0.0 hours\n",
      "Monday: 0.0 hours\n",
      "Tuesday: 0.0 hours\n",
      "Wednesday: 0.0 hours\n",
      "Thursday: 1.25 hours\n",
      "Friday: 0.0 hours\n",
      "\n",
      "Paper Reading For DB Reading Group schedule:\n",
      "Saturday: 0.0 hours\n",
      "Sunday: 0.0 hours\n",
      "Monday: 4.0 hours\n",
      "Tuesday: 0.0 hours\n",
      "Wednesday: 0.0 hours\n",
      "Thursday: 0.0 hours\n",
      "Friday: 0.0 hours\n",
      "\n",
      "DB Reading Group schedule:\n",
      "Saturday: 0.0 hours\n",
      "Sunday: 0.0 hours\n",
      "Monday: 0.0 hours\n",
      "Tuesday: 1.0 hours\n",
      "Wednesday: 0.0 hours\n",
      "Thursday: 0.0 hours\n",
      "Friday: 0.0 hours\n",
      "\n",
      "Edge Computing - Read PyWren schedule:\n",
      "Saturday: 0.0 hours\n",
      "Sunday: 0.0 hours\n",
      "Monday: 0.0 hours\n",
      "Tuesday: 0.0 hours\n",
      "Wednesday: 0.0 hours\n",
      "Thursday: 0.0 hours\n",
      "Friday: 2.0 hours\n",
      "\n",
      "Edge Computing - Read Google Scheduling schedule:\n",
      "Saturday: 0.0 hours\n",
      "Sunday: 0.0 hours\n",
      "Monday: 1.0 hours\n",
      "Tuesday: 0.0 hours\n",
      "Wednesday: 0.0 hours\n",
      "Thursday: 0.0 hours\n",
      "Friday: 0.0 hours\n",
      "\n"
     ]
    }
   ],
   "source": [
    "todo = getvalue(todo)\n",
    "for i=1:num_tasks\n",
    "    task = tasks[i, :]\n",
    "    println(task.name, \" schedule:\")\n",
    "    for j=1:num_days\n",
    "        println(day_names[j], \": \", sum(todo[i, j, k] for k=1:num_slots_per_day)/4, \" hours\")\n",
    "    end\n",
    "    println()\n",
    "end"
   ]
  },
  {
   "cell_type": "markdown",
   "metadata": {},
   "source": [
    "Printing the schdule for a single task (Research)"
   ]
  },
  {
   "cell_type": "code",
   "execution_count": 18,
   "metadata": {},
   "outputs": [
    {
     "name": "stdout",
     "output_type": "stream",
     "text": [
      "Research Schedule:\n",
      "\n",
      "Saturday:\n",
      "Start time: 10:30 End time: 13:30\n",
      "\n",
      "Sunday:\n",
      "Start time: 10:30 End time: 13:30\n",
      "\n",
      "Monday:\n",
      "\n",
      "Tuesday:\n",
      "Start time: 14:30 End time: 17:00\n",
      "\n",
      "Wednesday:\n",
      "Start time: 10:30 End time: 12:30\n",
      "Start time: 15:15 End time: 18:30\n",
      "\n",
      "Thursday:\n",
      "Start time: 10:30 End time: 12:45\n",
      "Start time: 14:30 End time: 18:30\n",
      "\n",
      "Friday:\n",
      "\n"
     ]
    }
   ],
   "source": [
    "# Research Schedule\n",
    "i = 1\n",
    "println(\"Research Schedule:\")\n",
    "println()\n",
    "for j=1:num_days\n",
    "    println(day_names[j], \":\")\n",
    "    start_slot = 0\n",
    "    end_slot = 0\n",
    "    for k=convertTimeToSlotIndex(work_start):convertTimeToSlotIndex(work_end)-1\n",
    "        if todo[i, j, k] == 1\n",
    "            if start_slot == 0\n",
    "                start_slot = end_slot = k\n",
    "            else\n",
    "                end_slot += 1\n",
    "            end\n",
    "        else\n",
    "            if start_slot != 0\n",
    "                println(\"Start time: \", convertSlotIndexToTime(start_slot), \" End time: \", convertSlotIndexToTime(end_slot+1))\n",
    "            end\n",
    "            start_slot = end_slot = 0\n",
    "        end\n",
    "    end\n",
    "    \n",
    "    if start_slot != 0\n",
    "        println(\"Start time: \", convertSlotIndexToTime(start_slot), \" End time: \", convertSlotIndexToTime(end_slot+1))\n",
    "    end\n",
    "    println()\n",
    "end"
   ]
  },
  {
   "cell_type": "markdown",
   "metadata": {},
   "source": [
    "We print how many extra hours will we need to work to complete the task. Based on this user can decide if there is a task he wants to remove"
   ]
  },
  {
   "cell_type": "code",
   "execution_count": 19,
   "metadata": {},
   "outputs": [
    {
     "name": "stdout",
     "output_type": "stream",
     "text": [
      "Number of hours exceeded:\n",
      "Saturday: 0.0\n",
      "Sunday: 0.0\n",
      "Monday: 0.0\n",
      "Tuesday: 0.0\n",
      "Wednesday: 0.0\n",
      "Thursday: 0.0\n",
      "Friday: 0.0\n"
     ]
    }
   ],
   "source": [
    "# Number of hours exceeded\n",
    "slots_exceeded = getvalue(slots_exceeded)\n",
    "println(\"Number of hours exceeded:\")\n",
    "for j=1:num_days\n",
    "    println(day_names[j], \": \", slots_exceeded[j]/4)\n",
    "end"
   ]
  },
  {
   "cell_type": "markdown",
   "metadata": {},
   "source": [
    "Print the unfulfilled tasks"
   ]
  },
  {
   "cell_type": "code",
   "execution_count": 20,
   "metadata": {},
   "outputs": [
    {
     "name": "stdout",
     "output_type": "stream",
     "text": [
      "There are no unfulfilled tasks\n"
     ]
    }
   ],
   "source": [
    "# Number of unfulfilled tasks\n",
    "slots_spent = getvalue(slots_spent)\n",
    "num_unfulfilled_tasks = 0\n",
    "for i=1:num_tasks\n",
    "    if (tasks[i,:].num_hours*4 - slots_spent[i] !=0)\n",
    "        println(tasks[i,:].name, \", Unfulfilled hours: \", (tasks[i,:].num_hours - slots_spent[i]/4))\n",
    "        num_unfulfilled_tasks += 1\n",
    "    end\n",
    "end\n",
    "\n",
    "if num_unfulfilled_tasks == 0\n",
    "    println(\"There are no unfulfilled tasks\")\n",
    "end"
   ]
  },
  {
   "cell_type": "markdown",
   "metadata": {},
   "source": [
    "## 4. Results and Discussion "
   ]
  },
  {
   "cell_type": "markdown",
   "metadata": {},
   "source": [
    "### 4.A. Generating a CSV output compatible with Google Calender \n",
    "\n",
    "We generate a CSV of the schedule which can be directly uploaded to Google Calendar. Below is the helper module to generate the CSV."
   ]
  },
  {
   "cell_type": "code",
   "execution_count": 21,
   "metadata": {},
   "outputs": [
    {
     "name": "stderr",
     "output_type": "stream",
     "text": [
      "WARNING: using Dates.Sunday in module Main conflicts with an existing identifier.\n",
      "WARNING: using Dates.Saturday in module Main conflicts with an existing identifier.\n",
      "WARNING: using Dates.Wednesday in module Main conflicts with an existing identifier.\n",
      "WARNING: using Dates.Friday in module Main conflicts with an existing identifier.\n",
      "WARNING: using Dates.Tuesday in module Main conflicts with an existing identifier.\n",
      "WARNING: using Dates.Monday in module Main conflicts with an existing identifier.\n",
      "WARNING: using Dates.Thursday in module Main conflicts with an existing identifier.\n"
     ]
    },
    {
     "data": {
      "text/plain": [
       "\"schedule.csv\""
      ]
     },
     "execution_count": 21,
     "metadata": {},
     "output_type": "execute_result"
    }
   ],
   "source": [
    "using Dates, CSV\n",
    "\n",
    "schedule = DataFrame(\n",
    "    subject = String[], \n",
    "    start_date = String[], \n",
    "    start_time = String[], \n",
    "    end_date = String[],\n",
    "    end_time = String[]\n",
    ");\n",
    "\n",
    "# Date of Friday before the start of the week\n",
    "fri = Dates.Date(2019,4,26)\n",
    "\n",
    "i = 1\n",
    "for i=1:num_tasks\n",
    "    for j=1:num_days\n",
    "        #println(day_names[j], \":\")\n",
    "        start_slot = 0\n",
    "        end_slot = 0\n",
    "        for k=convertTimeToSlotIndex(work_start):convertTimeToSlotIndex(work_end)-1\n",
    "            if todo[i, j, k] == 1\n",
    "                if start_slot == 0\n",
    "                    start_slot = end_slot = k\n",
    "                else\n",
    "                    end_slot += 1\n",
    "                end\n",
    "            else\n",
    "                if start_slot != 0\n",
    "                    #println(\"Start time: \", convertSlotIndexToTime(start_slot), \" End time: \", convertSlotIndexToTime(end_slot))\n",
    "                    temp_start_date = fri + Dates.Day(j)\n",
    "                    temp_start_date = Dates.format(temp_start_date, \"mm/dd/yyyy\")\n",
    "\n",
    "                    push!(schedule, Dict(\n",
    "                            :subject => tasks[i,:].name,\n",
    "                            :start_date => temp_start_date,\n",
    "                            :start_time =>convertSlotIndexToTime(start_slot),\n",
    "                            :end_date =>temp_start_date,\n",
    "                            :end_time =>convertSlotIndexToTime(end_slot+1)\n",
    "                            ))\n",
    "                end\n",
    "                start_slot = end_slot = 0\n",
    "            end\n",
    "        end\n",
    "\n",
    "        if start_slot != 0\n",
    "            #println(\"Start time: \", convertSlotIndexToTime(start_slot), \" End time: \", convertSlotIndexToTime(end_slot))\n",
    "            temp_start_date = fri + Dates.Day(j)\n",
    "                    temp_start_date = Dates.format(temp_start_date, \"mm/dd/yyyy\")\n",
    "\n",
    "                    push!(schedule, Dict(\n",
    "                            :subject => tasks[i,:].name,\n",
    "                            :start_date => temp_start_date,\n",
    "                            :start_time =>convertSlotIndexToTime(start_slot),\n",
    "                            :end_date =>temp_start_date,\n",
    "                            :end_time =>convertSlotIndexToTime(end_slot+1)\n",
    "                            ))\n",
    "        end\n",
    "        #println()\n",
    "    end\n",
    "end\n",
    "\n",
    "CSV.write(\"schedule.csv\", schedule, header=[\"Subject\", \"Start Date\", \"Start Time\", \"End Date\", \"End Time\"])"
   ]
  },
  {
   "cell_type": "markdown",
   "metadata": {},
   "source": [
    "### 4.B Resulting Schedule of all the Tasks \n",
    "\n",
    "We visualize our results by uploading them to Google Calendar. We get the following schedule for our list of tasks."
   ]
  },
  {
   "cell_type": "markdown",
   "metadata": {},
   "source": [
    "<img src=\"https://raw.githubusercontent.com/aarati-K/weekly-task-planner/master/normal_run.png\" >"
   ]
  },
  {
   "cell_type": "markdown",
   "metadata": {},
   "source": [
    "We would like to note the following properties of the schedule obtained:\n",
    "\n",
    "- The total duration of all the tasks is fulfilled\n",
    "- All the tasks are scheduled within the preferred working hours of each day\n",
    "- Non-optional tasks such as CS524 lectures are scheduled in the specified duration\n",
    "- Optional and flexible tasks, such as Research are scheduled in multiple work slots. Each work slot is at least 2 hours (the specified min_allotted_hours) and at most 4 hours (the specified max_allotted_hours)\n",
    "- Before starting every work slot of Research, we have a 15 minute break.\n",
    "\n",
    "The above discussion shows that the desired properties for all the tasks were satisfied."
   ]
  },
  {
   "cell_type": "markdown",
   "metadata": {},
   "source": [
    "### 4.C Adding a Compulsory Task to the Schedule\n",
    "\n",
    "To test our model, we add an additional 15-hour compulsory (is_optional = false) task of working on CS524 Project (we would like to finish working on the project by Friday, May 3rd). We first run our model with alpha = 2, i.e, we would not like to exceed our preferred working hours."
   ]
  },
  {
   "cell_type": "code",
   "execution_count": 22,
   "metadata": {},
   "outputs": [],
   "source": [
    "alpha = 2\n",
    "\n",
    "push!(tasks, Dict(\n",
    "    :name => \"CS524 Project\", \n",
    "    :num_hours => 15, \n",
    "    :start_day => default, \n",
    "    :start_time_slot => default, \n",
    "    :end_day => default,\n",
    "    :end_time_slot => default, \n",
    "    :is_optional => false, \n",
    "    :is_flexible => false,  \n",
    "    :min_allotted_hours => 1,\n",
    "    :max_allotted_hours => default,\n",
    "    :take_break_before_task => true\n",
    "));"
   ]
  },
  {
   "cell_type": "markdown",
   "metadata": {},
   "source": [
    "The schedule is as shown below. We see that our preferred working hours are not exceeded (alpha=2). However, to make time for the compulsory task, our time spent on Research has significantly reduced by 9.25 hours.\n",
    "\n",
    "<img src=\"https://raw.githubusercontent.com/aarati-K/weekly-task-planner/master/alpha_compulsory.png\">"
   ]
  },
  {
   "cell_type": "markdown",
   "metadata": {},
   "source": [
    "We set alpha = 0.5 and try to obtain a new schedule with the added task. Setting alpha = 0.5, reduces the penalty of exceeding the preferred work hours; as we really want to spend enough time on Research."
   ]
  },
  {
   "cell_type": "code",
   "execution_count": 23,
   "metadata": {},
   "outputs": [],
   "source": [
    "alpha = 0.5\n",
    "\n",
    "push!(tasks, Dict(\n",
    "    :name => \"CS524 Project\", \n",
    "    :num_hours => 15, \n",
    "    :start_day => default, \n",
    "    :start_time_slot => default, \n",
    "    :end_day => default,\n",
    "    :end_time_slot => default, \n",
    "    :is_optional => false, \n",
    "    :is_flexible => false,  \n",
    "    :min_allotted_hours => 1,\n",
    "    :max_allotted_hours => default,\n",
    "    :take_break_before_task => true\n",
    "));"
   ]
  },
  {
   "cell_type": "markdown",
   "metadata": {},
   "source": [
    "We obtain the following schedule. We observe that all the task hours are fulfilled. However, to accomplish this, we have exceeded our desired work hours by 9.25 (previous time lost on Research). Also, we need to spend more time working on weekends :(\n",
    "\n",
    "<img src=\"https://raw.githubusercontent.com/aarati-K/weekly-task-planner/master/alpha_half_compulsory.png\">"
   ]
  },
  {
   "cell_type": "markdown",
   "metadata": {},
   "source": [
    "In conclusion, we can tune the trade-off of exceeding preferred working hours against finishing all tasks, by using different values of alpha. For $alpha > 1$, our model gives more importance to not exceeding preferred hours at the cost of unfulfilled optional tasks. For $alpha < 1$, we have the opposite effect.\n",
    "\n",
    "Another thing we observe is that the work slots for Research on Sunday are not compactly scheduled. This is because our preferred work hours end at 1:30pm on Sunday, and anything scheduled beyond that time has equal penalty. We can improve upon this in future."
   ]
  },
  {
   "cell_type": "markdown",
   "metadata": {},
   "source": [
    "### 4.D Adding an Optional Task\n",
    "\n",
    "We first generate a new schedule with a single task as follows (for ease of analysis). We would like to schedule 46 hours on our Course Project (not optional)."
   ]
  },
  {
   "cell_type": "code",
   "execution_count": 24,
   "metadata": {},
   "outputs": [],
   "source": [
    "tasks = DataFrame(\n",
    "    name = String[], \n",
    "    num_hours = Float32[], \n",
    "    start_day = Int[], \n",
    "    start_time_slot = Int[],\n",
    "    end_day = Int[],\n",
    "    end_time_slot = Int[],\n",
    "    is_optional = Bool[],\n",
    "    is_flexible = Bool[],\n",
    "    min_allotted_hours = Int[],\n",
    "    max_allotted_hours = Int[],\n",
    "    take_break_before_task = Bool[]\n",
    ")\n",
    "\n",
    "push!(tasks, Dict(\n",
    "    :name => \"CS524 Project\", \n",
    "    :num_hours => 46, \n",
    "    :start_day => default, \n",
    "    :start_time_slot => default, \n",
    "    :end_day => default, \n",
    "    :end_time_slot => default, \n",
    "    :is_optional => false, \n",
    "    :is_flexible => false,  \n",
    "    :min_allotted_hours => default,\n",
    "    :max_allotted_hours => default,\n",
    "    :take_break_before_task => false\n",
    "));"
   ]
  },
  {
   "cell_type": "markdown",
   "metadata": {},
   "source": [
    "As expected, our schedule looks as follows. All our preferred working hours are spent on our Course Project.\n",
    "\n",
    "<img src=\"https://raw.githubusercontent.com/aarati-K/weekly-task-planner/master/46hr_compulsory.png\">"
   ]
  },
  {
   "cell_type": "markdown",
   "metadata": {},
   "source": [
    "Now, we unexpectedly have a meeting of two hours that comes up during the week. However, this meeting is optional, and we need to make a decision of whether or not to attend it. We really would not like to exceed our work hours because of this meeting."
   ]
  },
  {
   "cell_type": "code",
   "execution_count": 25,
   "metadata": {},
   "outputs": [],
   "source": [
    "alpha = 2\n",
    "\n",
    "push!(tasks, Dict(\n",
    "    :name => \"Meeting\", \n",
    "    :num_hours => 2, \n",
    "    :start_day => Int(Friday), \n",
    "    :start_time_slot => convertTimeToSlotIndex(\"12:30\"), \n",
    "    :end_day => Int(Friday), \n",
    "    :end_time_slot => convertTimeToSlotIndex(\"14:30\"), \n",
    "    :is_optional => true, \n",
    "    :is_flexible => false,\n",
    "    :min_allotted_hours => default,\n",
    "    :max_allotted_hours => default,\n",
    "    :take_break_before_task => false\n",
    "));"
   ]
  },
  {
   "cell_type": "markdown",
   "metadata": {},
   "source": [
    "On running our model, we obtain the following output (screenshot included).\n",
    "\n",
    "<img src=\"https://raw.githubusercontent.com/aarati-K/weekly-task-planner/master/optional_task_not_scheduled.png\">"
   ]
  },
  {
   "cell_type": "markdown",
   "metadata": {},
   "source": [
    "Basically, our model recommended that we skip the meeting if we don't want to exceed our preferred work hours. This is the desired output."
   ]
  },
  {
   "cell_type": "markdown",
   "metadata": {},
   "source": [
    "### 5. Conclusion\n",
    "We build a scheduler which can be used by a lot of people to schedule their tasks during the day. There quite a few things which can improved and worked upon in future. \n",
    "#### 5.A. Future Work\n",
    "1. Allow more preferences for users to input like if during what time of they day do they want to do the task\n",
    "2. Allow dependencies among task, say you can't schedule a task before another task is done.\n",
    "3. Allow certain tasks to be scheduled one after the other. Like say after a mentally challenging task, schedule a physically  challenging task.\n",
    "\n",
    "We plan to work on this in future and extend the project to a more comprehensive scheduler"
   ]
  }
 ],
 "metadata": {
  "kernelspec": {
   "display_name": "Julia 1.1.0",
   "language": "julia",
   "name": "julia-1.1"
  },
  "language_info": {
   "file_extension": ".jl",
   "mimetype": "application/julia",
   "name": "julia",
   "version": "1.1.0"
  }
 },
 "nbformat": 4,
 "nbformat_minor": 2
}
