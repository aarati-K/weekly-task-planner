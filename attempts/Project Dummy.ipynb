{
 "cells": [
  {
   "cell_type": "markdown",
   "metadata": {},
   "source": [
    "# A Trial Attempt for the Course Project\n",
    "\n",
    "We have 2 tasks, as described below:"
   ]
  },
  {
   "cell_type": "code",
   "execution_count": 207,
   "metadata": {},
   "outputs": [
    {
     "data": {
      "text/plain": [
       "52"
      ]
     },
     "execution_count": 207,
     "metadata": {},
     "output_type": "execute_result"
    }
   ],
   "source": [
    "# PROBLEM MODEL\n",
    "\n",
    "using JuMP, Clp\n",
    "\n",
    "m = Model(solver=ClpSolver())\n",
    "\n",
    "# Number of days in a week\n",
    "num_days = 7\n",
    "\n",
    "# Divide each day 10:30am to 11:30pm into 15 minute slots. So there are 13*4 = 52 slots in each day.\n",
    "num_slots = 13*4\n",
    "\n",
    "# @variable(m, slots[1:num_days, 1:num_slots] >= 0)"
   ]
  },
  {
   "cell_type": "code",
   "execution_count": 208,
   "metadata": {},
   "outputs": [],
   "source": [
    "# TASK 1: Research\n",
    "\n",
    "# Whether we are doing research in a given slot, binary value\n",
    "@variable(m, 0 <= research[1:num_days, 1:num_slots] <= 1)\n",
    "\n",
    "# # Populate the variable\n",
    "# for i=1:num_days\n",
    "#     for j=1:num_slots\n",
    "#         @constraint(m, research[i, j] == (slots[i, j] == 1))\n",
    "#     end\n",
    "# end\n",
    "\n",
    "# Deadline is Friday, so incorporate that\n",
    "# @expression(m, time_spent_on_research, sum( sum(research[i, j] for j=1:num_slots) for i=1:num_days))\n",
    "@expression(m, time_spent_research, sum( sum(research[i, j] for j=1:num_slots) for i=1:4))\n",
    "min_hours_research =12\n",
    "@constraint(m, time_spent_research >= min_hours_research*4)\n",
    "\n",
    "@variable(m, num_hours_worked_research[1:num_days])\n",
    "for i=1:num_days\n",
    "    @constraint(m, num_hours_worked_research[i] == sum(research[i, j] for j=1:num_slots)/4)\n",
    "end\n"
   ]
  },
  {
   "cell_type": "code",
   "execution_count": 209,
   "metadata": {},
   "outputs": [],
   "source": [
    "# TASK 2: Edge Computing Course\n",
    "\n",
    "# Whether we are doing edge_computing a given slot, binary value\n",
    "@variable(m, 0 <= edge_computing[1:num_days, 1:num_slots] <= 1)\n",
    "\n",
    "# # Populate the variable\n",
    "# for i=1:num_days\n",
    "#     for j=1:num_slots\n",
    "#         @constraint(m, edge_computing[i, j] == (slots[i, j] == 2))\n",
    "#     end\n",
    "# end\n",
    "\n",
    "@expression(m, time_spent_edge_computing, sum( sum(edge_computing[i, j] for j=1:num_slots) for i=1:num_days))\n",
    "\n",
    "# Deadline is Friday 4pm, so incorporate that\n",
    "deadline_day = 5\n",
    "deadline_slot = (32-21)*2 + 1\n",
    "for j=deadline_slot:num_slots\n",
    "    @constraint(m, edge_computing[deadline_day, j] == 0)\n",
    "end\n",
    "\n",
    "# Make some progress by the end of Wednesday, spend at least 3 hours\n",
    "@constraint(m, sum(edge_computing[3, j] for j=1:num_slots) >= 3*4)\n",
    "\n",
    "# not worth doing work on Saturday and Sunday\n",
    "for i=6:7\n",
    "    for j=1:num_slots\n",
    "        @constraint(m, edge_computing[i, j] == 0)\n",
    "    end\n",
    "end\n",
    "min_hours_edge_computing = 8\n",
    "@constraint(m, time_spent_edge_computing >= min_hours_edge_computing*4)\n",
    "\n",
    "@variable(m, num_hours_worked_edge_computing[1:num_days])\n",
    "for i=1:num_days\n",
    "    @constraint(m, num_hours_worked_edge_computing[i] == sum(edge_computing[i, j] for j=1:num_slots)/4)\n",
    "end"
   ]
  },
  {
   "cell_type": "code",
   "execution_count": 210,
   "metadata": {},
   "outputs": [],
   "source": [
    "# TEMPORARY: Monday and Tuesday have already passed\n",
    "for i=1:2\n",
    "    for j=1:num_slots\n",
    "        @constraint(m, research[i, j] == 0)\n",
    "        @constraint(m, edge_computing[i, j] == 0)\n",
    "    end\n",
    "end"
   ]
  },
  {
   "cell_type": "code",
   "execution_count": 211,
   "metadata": {},
   "outputs": [],
   "source": [
    "# Constraint: Should take break for 15 minutes after every hour of work. Every 5th slot is a break.\n",
    "for i=1:num_days\n",
    "    for j=1:Int(floor(num_slots/5))\n",
    "        @constraint(m, research[i, j*5] == 0)\n",
    "        @constraint(m, edge_computing[i, j*5] == 0)\n",
    "    end\n",
    "end"
   ]
  },
  {
   "cell_type": "code",
   "execution_count": 212,
   "metadata": {},
   "outputs": [],
   "source": [
    "# Constraint: Can only do one type of task in each slot\n",
    "for i=1:num_days\n",
    "    for j=1:num_slots\n",
    "        @constraint(m, research[i,j] + edge_computing[i, j] <= 1)\n",
    "    end\n",
    "end"
   ]
  },
  {
   "cell_type": "code",
   "execution_count": 213,
   "metadata": {},
   "outputs": [
    {
     "name": "stdout",
     "output_type": "stream",
     "text": [
      "Optimal\n"
     ]
    }
   ],
   "source": [
    "# Objective: Minimize context switches from one task to another, and do not have long working days\n",
    "\n",
    "# Context switches for research\n",
    "@variable(m, 0 <= context_switches_research[1:num_days, 1:(num_slots-1)] <= 1)\n",
    "\n",
    "for i=1:num_days\n",
    "    for j=2:num_slots\n",
    "        @constraint(m, context_switches_research[i, j-1] >= (research[i, j] - research[i, j-1]))\n",
    "        @constraint(m, context_switches_research[i, j-1] >= (research[i, j-1] - research[i, j]))\n",
    "    end\n",
    "end\n",
    "\n",
    "@expression(m, num_context_switches_research, sum( sum(context_switches_research[i, j] for j=1:(num_slots-1)) for i=1:num_days))\n",
    "\n",
    "# Context switches for edge computing\n",
    "@variable(m, 0 <= context_switches_edge[1:num_days, 1:(num_slots-1)] <= 1)\n",
    "\n",
    "for i=1:num_days\n",
    "    for j=2:num_slots\n",
    "        @constraint(m, context_switches_edge[i, j-1] >= (edge_computing[i, j] - edge_computing[i, j-1]))\n",
    "        @constraint(m, context_switches_edge[i, j-1] >= (edge_computing[i, j-1] - edge_computing[i, j]))\n",
    "    end\n",
    "end\n",
    "\n",
    "@expression(m, num_context_switches_edge, sum( sum(context_switches_edge[i, j] for j=1:(num_slots-1)) for i=1:num_days))\n",
    "\n",
    "# Do not have long working days unnecessarily\n",
    "preferred_hours_per_day = 8\n",
    "@variable(m, hours_exceeded[1:num_days] >= 0)\n",
    "for i=1:num_days\n",
    "    @constraint(m, hours_exceeded[i] >= (num_hours_worked_research[i]+num_hours_worked_edge_computing[i] - preferred_hours_per_day))\n",
    "end\n",
    "@expression(m, total_hours_exceeded, sum(hours_exceeded[i] for i=1:num_days))\n",
    "@objective(m, Min, num_context_switches_research + num_context_switches_edge + total_hours_exceeded)\n",
    "status = solve(m)\n",
    "println(status)"
   ]
  },
  {
   "cell_type": "code",
   "execution_count": 214,
   "metadata": {
    "scrolled": false
   },
   "outputs": [
    {
     "name": "stdout",
     "output_type": "stream",
     "text": [
      "Research Schedule\n",
      "Monday: 0.0 hours\n",
      "Tuesday: 0.0 hours\n",
      "Wednesday: 5.000000000000002 hours\n",
      "Thursday: 7.0000000000000036 hours\n",
      "Friday: 0.0 hours\n",
      "Saturday: 0.0 hours\n",
      "Sunday: 0.0 hours\n",
      "\n",
      "Total Research Hours: 12.000000000000005\n"
     ]
    }
   ],
   "source": [
    "research = getvalue(research)\n",
    "# println(size(research))\n",
    "start_time = 1030\n",
    "days = [\"Monday\", \"Tuesday\", \"Wednesday\", \"Thursday\", \"Friday\", \"Saturday\", \"Sunday\"]\n",
    "\n",
    "println(\"Research Schedule\")\n",
    "for i=1:7\n",
    "    println(days[i], \": \", sum(research[i, j] for j=1:num_slots)/4, \" hours\")\n",
    "#     for j=1:num_slots\n",
    "#         println(start_time+(j-1)*15, \": \", research[i, j])\n",
    "#     end\n",
    "end\n",
    "println()\n",
    "println(\"Total Research Hours: \", sum( sum(research[i, j] for j=1:num_slots) for i=1:7)/4)"
   ]
  },
  {
   "cell_type": "code",
   "execution_count": 215,
   "metadata": {},
   "outputs": [
    {
     "name": "stdout",
     "output_type": "stream",
     "text": [
      "Edge Computing Schedule\n",
      "Monday: 0.0 hours\n",
      "Tuesday: 0.0 hours\n",
      "Wednesday: 3.0 hours\n",
      "Thursday: 1.0 hours\n",
      "Friday: 3.9999999999999973 hours\n",
      "Saturday: 0.0 hours\n",
      "Sunday: 0.0 hours\n",
      "\n",
      "Total Edge Computing Hours: 7.999999999999997\n"
     ]
    }
   ],
   "source": [
    "edge_computing = getvalue(edge_computing)\n",
    "# println(size(research))\n",
    "start_time = 1030\n",
    "days = [\"Monday\", \"Tuesday\", \"Wednesday\", \"Thursday\", \"Friday\", \"Saturday\", \"Sunday\"]\n",
    "\n",
    "println(\"Edge Computing Schedule\")\n",
    "for i=1:7\n",
    "    println(days[i], \": \", sum(edge_computing[i, j] for j=1:num_slots)/4, \" hours\")\n",
    "#     for j=1:num_slots\n",
    "#         println(start_time+(j-1)*15, \": \", edge_computing[i, j])\n",
    "#     end\n",
    "end\n",
    "println()\n",
    "println(\"Total Edge Computing Hours: \", sum( sum(edge_computing[i, j] for j=1:num_slots) for i=1:7)/4)"
   ]
  }
 ],
 "metadata": {
  "kernelspec": {
   "display_name": "Julia 1.1.0",
   "language": "julia",
   "name": "julia-1.1"
  },
  "language_info": {
   "file_extension": ".jl",
   "mimetype": "application/julia",
   "name": "julia",
   "version": "1.1.0"
  }
 },
 "nbformat": 4,
 "nbformat_minor": 2
}
